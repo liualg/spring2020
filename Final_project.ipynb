{
 "cells": [
  {
   "cell_type": "code",
   "execution_count": 61,
   "metadata": {},
   "outputs": [],
   "source": [
    "import pandas as pd \n",
    "import numpy as np\n",
    "import cv2 as cv\n",
    "from PIL import Image\n",
    "from tqdm import tqdm #gives you a nice loading bar\n",
    "from sklearn.model_selection import train_test_split\n",
    "from keras.utils import to_categorical"
   ]
  },
  {
   "cell_type": "code",
   "execution_count": 62,
   "metadata": {},
   "outputs": [],
   "source": [
    "#data link \n",
    "#https://www.kaggle.com/praveengovi/coronahack-chest-xraydataset/metadata"
   ]
  },
  {
   "cell_type": "code",
   "execution_count": 141,
   "metadata": {},
   "outputs": [
    {
     "name": "stdout",
     "output_type": "stream",
     "text": [
      "data_raw shape:  (5910, 6)\n"
     ]
    },
    {
     "data": {
      "text/html": [
       "<div>\n",
       "<style scoped>\n",
       "    .dataframe tbody tr th:only-of-type {\n",
       "        vertical-align: middle;\n",
       "    }\n",
       "\n",
       "    .dataframe tbody tr th {\n",
       "        vertical-align: top;\n",
       "    }\n",
       "\n",
       "    .dataframe thead th {\n",
       "        text-align: right;\n",
       "    }\n",
       "</style>\n",
       "<table border=\"1\" class=\"dataframe\">\n",
       "  <thead>\n",
       "    <tr style=\"text-align: right;\">\n",
       "      <th></th>\n",
       "      <th>Unnamed: 0</th>\n",
       "      <th>X_ray_image_name</th>\n",
       "      <th>Label</th>\n",
       "      <th>Dataset_type</th>\n",
       "      <th>Label_2_Virus_category</th>\n",
       "      <th>Label_1_Virus_category</th>\n",
       "    </tr>\n",
       "  </thead>\n",
       "  <tbody>\n",
       "    <tr>\n",
       "      <th>0</th>\n",
       "      <td>0</td>\n",
       "      <td>IM-0128-0001.jpeg</td>\n",
       "      <td>Normal</td>\n",
       "      <td>TRAIN</td>\n",
       "      <td>NaN</td>\n",
       "      <td>NaN</td>\n",
       "    </tr>\n",
       "    <tr>\n",
       "      <th>1</th>\n",
       "      <td>1</td>\n",
       "      <td>IM-0127-0001.jpeg</td>\n",
       "      <td>Normal</td>\n",
       "      <td>TRAIN</td>\n",
       "      <td>NaN</td>\n",
       "      <td>NaN</td>\n",
       "    </tr>\n",
       "    <tr>\n",
       "      <th>2</th>\n",
       "      <td>2</td>\n",
       "      <td>IM-0125-0001.jpeg</td>\n",
       "      <td>Normal</td>\n",
       "      <td>TRAIN</td>\n",
       "      <td>NaN</td>\n",
       "      <td>NaN</td>\n",
       "    </tr>\n",
       "    <tr>\n",
       "      <th>3</th>\n",
       "      <td>3</td>\n",
       "      <td>IM-0122-0001.jpeg</td>\n",
       "      <td>Normal</td>\n",
       "      <td>TRAIN</td>\n",
       "      <td>NaN</td>\n",
       "      <td>NaN</td>\n",
       "    </tr>\n",
       "    <tr>\n",
       "      <th>4</th>\n",
       "      <td>4</td>\n",
       "      <td>IM-0119-0001.jpeg</td>\n",
       "      <td>Normal</td>\n",
       "      <td>TRAIN</td>\n",
       "      <td>NaN</td>\n",
       "      <td>NaN</td>\n",
       "    </tr>\n",
       "  </tbody>\n",
       "</table>\n",
       "</div>"
      ],
      "text/plain": [
       "   Unnamed: 0   X_ray_image_name   Label Dataset_type Label_2_Virus_category  \\\n",
       "0           0  IM-0128-0001.jpeg  Normal        TRAIN                    NaN   \n",
       "1           1  IM-0127-0001.jpeg  Normal        TRAIN                    NaN   \n",
       "2           2  IM-0125-0001.jpeg  Normal        TRAIN                    NaN   \n",
       "3           3  IM-0122-0001.jpeg  Normal        TRAIN                    NaN   \n",
       "4           4  IM-0119-0001.jpeg  Normal        TRAIN                    NaN   \n",
       "\n",
       "  Label_1_Virus_category  \n",
       "0                    NaN  \n",
       "1                    NaN  \n",
       "2                    NaN  \n",
       "3                    NaN  \n",
       "4                    NaN  "
      ]
     },
     "execution_count": 141,
     "metadata": {},
     "output_type": "execute_result"
    }
   ],
   "source": [
    "root = '/Volumes/noName/'\n",
    "full_path = root + 'coronahack-chest-xraydataset/Coronahack-Chest-XRay-Dataset/all/'\n",
    "\n",
    "data_raw = pd.read_csv(\"coronahack-chest-xraydataset/Chest_xray_Corona_Metadata.csv\")\n",
    "print('data_raw shape: ', data_raw.shape)\n",
    "data_raw.head()"
   ]
  },
  {
   "cell_type": "code",
   "execution_count": 64,
   "metadata": {},
   "outputs": [
    {
     "data": {
      "text/plain": [
       "Pnemonia    4334\n",
       "Normal      1576\n",
       "Name: Label, dtype: int64"
      ]
     },
     "execution_count": 64,
     "metadata": {},
     "output_type": "execute_result"
    }
   ],
   "source": [
    "data_raw.Label.value_counts()"
   ]
  },
  {
   "cell_type": "markdown",
   "metadata": {},
   "source": [
    "## **Cleaning data and creating train, test**"
   ]
  },
  {
   "cell_type": "code",
   "execution_count": 65,
   "metadata": {},
   "outputs": [
    {
     "name": "stdout",
     "output_type": "stream",
     "text": [
      "data shape:  (5910, 3)\n",
      "distribution: \n",
      "1    4334\n",
      "0    1576\n",
      "Name: Label, dtype: int64\n"
     ]
    },
    {
     "data": {
      "text/html": [
       "<div>\n",
       "<style scoped>\n",
       "    .dataframe tbody tr th:only-of-type {\n",
       "        vertical-align: middle;\n",
       "    }\n",
       "\n",
       "    .dataframe tbody tr th {\n",
       "        vertical-align: top;\n",
       "    }\n",
       "\n",
       "    .dataframe thead th {\n",
       "        text-align: right;\n",
       "    }\n",
       "</style>\n",
       "<table border=\"1\" class=\"dataframe\">\n",
       "  <thead>\n",
       "    <tr style=\"text-align: right;\">\n",
       "      <th></th>\n",
       "      <th>X_ray_image_name</th>\n",
       "      <th>Label</th>\n",
       "      <th>Dataset_type</th>\n",
       "    </tr>\n",
       "  </thead>\n",
       "  <tbody>\n",
       "    <tr>\n",
       "      <th>0</th>\n",
       "      <td>IM-0128-0001.jpeg</td>\n",
       "      <td>0</td>\n",
       "      <td>TRAIN</td>\n",
       "    </tr>\n",
       "    <tr>\n",
       "      <th>1</th>\n",
       "      <td>IM-0127-0001.jpeg</td>\n",
       "      <td>0</td>\n",
       "      <td>TRAIN</td>\n",
       "    </tr>\n",
       "    <tr>\n",
       "      <th>2</th>\n",
       "      <td>IM-0125-0001.jpeg</td>\n",
       "      <td>0</td>\n",
       "      <td>TRAIN</td>\n",
       "    </tr>\n",
       "    <tr>\n",
       "      <th>3</th>\n",
       "      <td>IM-0122-0001.jpeg</td>\n",
       "      <td>0</td>\n",
       "      <td>TRAIN</td>\n",
       "    </tr>\n",
       "    <tr>\n",
       "      <th>4</th>\n",
       "      <td>IM-0119-0001.jpeg</td>\n",
       "      <td>0</td>\n",
       "      <td>TRAIN</td>\n",
       "    </tr>\n",
       "  </tbody>\n",
       "</table>\n",
       "</div>"
      ],
      "text/plain": [
       "    X_ray_image_name  Label Dataset_type\n",
       "0  IM-0128-0001.jpeg      0        TRAIN\n",
       "1  IM-0127-0001.jpeg      0        TRAIN\n",
       "2  IM-0125-0001.jpeg      0        TRAIN\n",
       "3  IM-0122-0001.jpeg      0        TRAIN\n",
       "4  IM-0119-0001.jpeg      0        TRAIN"
      ]
     },
     "execution_count": 65,
     "metadata": {},
     "output_type": "execute_result"
    }
   ],
   "source": [
    "#finding the min x and y so that i can try to preserve the most ammount of data in the image\n",
    "#only taking columns: X-ray_image_name, and Dataset_type\n",
    "data = data_raw.iloc[:,[1,2,3]]\n",
    "data = data.dropna().reset_index(drop=True)\n",
    "# renaming labels to numbers, 0 = normal, 1 = everything else\n",
    "data['Label'] = np.where(data['Label'] == 'Normal',0,1)\n",
    "print('data shape: ', data.shape)\n",
    "print('distribution: ')\n",
    "print(data.Label.value_counts())\n",
    "data.head()"
   ]
  },
  {
   "cell_type": "code",
   "execution_count": 66,
   "metadata": {},
   "outputs": [
    {
     "name": "stderr",
     "output_type": "stream",
     "text": [
      "100%|██████████| 5910/5910 [00:11<00:00, 493.71it/s]"
     ]
    },
    {
     "name": "stdout",
     "output_type": "stream",
     "text": [
      "image size: 127x255\n"
     ]
    },
    {
     "name": "stderr",
     "output_type": "stream",
     "text": [
      "\n"
     ]
    }
   ],
   "source": [
    "#changing data to nparray \n",
    "imgx=[]\n",
    "imgy=[]\n",
    "\n",
    "# getting the shape of pics in the data set\n",
    "for i in tqdm(data['X_ray_image_name']):\n",
    "    imgx.append(Image.open(full_path+i).size[0])\n",
    "    imgy.append(Image.open(full_path+i).size[1])\n",
    "    # imgx.append(cv.imread(full_path+i).shape[0]) # THIS WAS SO SLOW\n",
    "print(f'image size: {min(imgy)}x{min(imgx)}')"
   ]
  },
  {
   "cell_type": "code",
   "execution_count": 67,
   "metadata": {},
   "outputs": [
    {
     "name": "stdout",
     "output_type": "stream",
     "text": [
      "reading in file...\n"
     ]
    }
   ],
   "source": [
    "#reading image to np array, resizing the image and saving it to a .pkl so save time in the future \n",
    "import pickle\n",
    "import pathlib\n",
    "if pathlib.Path(f'images_{min(imgx)}_{min(imgy)}.pkl').exists():\n",
    "    print('reading in file...')\n",
    "    pkl_file = open(f'images_{min(imgx)}_{min(imgy)}.pkl', 'rb')\n",
    "    X = pickle.load(pkl_file)\n",
    "    pkl_file.close()\n",
    "    # https://stackoverflow.com/questions/3685265/how-to-write-a-multidimensional-array-to-a-text-file\n",
    "else:\n",
    "    print('creating varible, and writing file')\n",
    "    X=[]\n",
    "    for i in tqdm(data['X_ray_image_name']):\n",
    "        X.append(cv.resize(cv.imread(full_path+i),(min(imgx),min(imgy))))\n",
    "    output = open(f'images_{min(imgx)}_{min(imgy)}.pkl', 'wb')\n",
    "    pickle.dump(X, output)\n",
    "    output.close()"
   ]
  },
  {
   "cell_type": "code",
   "execution_count": 68,
   "metadata": {},
   "outputs": [
    {
     "data": {
      "image/png": "[encoded data removed]",
      "text/plain": [
       "<Figure size 432x288 with 1 Axes>"
      ]
     },
     "metadata": {
      "needs_background": "light"
     },
     "output_type": "display_data"
    }
   ],
   "source": [
    "import matplotlib.pyplot as plt\n",
    "plt.imshow(X[0])\n",
    "plt.show()"
   ]
  },
  {
   "cell_type": "markdown",
   "metadata": {},
   "source": [
    "### Can I use ML to predict what the label of the image: healthy vs. not healthy (Pnemonia)?"
   ]
  },
  {
   "cell_type": "code",
   "execution_count": 69,
   "metadata": {},
   "outputs": [
    {
     "name": "stderr",
     "output_type": "stream",
     "text": [
      "100%|██████████| 5910/5910 [01:57<00:00, 50.33it/s]\n"
     ]
    }
   ],
   "source": [
    "#making images b/w to run the fully connected\n",
    "bw = []\n",
    "for i in tqdm(data['X_ray_image_name']):\n",
    "        bw.append(cv.resize(cv.imread(full_path+i),(min(imgx),min(imgy)))[:, :, 0])\n"
   ]
  },
  {
   "cell_type": "markdown",
   "metadata": {},
   "source": [
    "## **Dense Network**\n",
    "\n",
    "#### Make the train, test portion"
   ]
  },
  {
   "cell_type": "code",
   "execution_count": 70,
   "metadata": {},
   "outputs": [],
   "source": [
    "XBW = np.array(bw)\n",
    "y = data['Label']\n",
    "X_trainBW,X_testBW,y_trainBW,y_testBW = train_test_split(XBW,y,\n",
    "                                                         test_size=0.3,\n",
    "                                                         random_state=12345)"
   ]
  },
  {
   "cell_type": "code",
   "execution_count": 71,
   "metadata": {},
   "outputs": [
    {
     "name": "stdout",
     "output_type": "stream",
     "text": [
      "Train:\n",
      "1    3040\n",
      "0    1097\n",
      "Name: Label, dtype: int64 \n",
      "\n",
      "Test:\n",
      "1    1294\n",
      "0     479\n",
      "Name: Label, dtype: int64\n"
     ]
    }
   ],
   "source": [
    "print('Train:')\n",
    "print(y_trainBW.value_counts(),'\\n')\n",
    "print('Test:')\n",
    "print(y_testBW.value_counts())\n"
   ]
  },
  {
   "cell_type": "code",
   "execution_count": 72,
   "metadata": {},
   "outputs": [
    {
     "name": "stdout",
     "output_type": "stream",
     "text": [
      "4137 32385\n"
     ]
    }
   ],
   "source": [
    "print(len(X_train), min(imgx)*min(imgy))\n",
    "X_trainBW = X_trainBW.reshape(len(X_trainBW), min(imgx)*min(imgy)).astype('float32')\n",
    "X_testBW = X_testBW.reshape(len(X_testBW), min(imgx)*min(imgy)).astype('float32')\n",
    "# we can try to noramlize the data so that we can use it in a dense network\n",
    "X_trainBW /= np.amax(X_trainBW)\n",
    "X_testBW /= np.amax(X_testBW)"
   ]
  },
  {
   "cell_type": "code",
   "execution_count": 73,
   "metadata": {},
   "outputs": [
    {
     "data": {
      "text/plain": [
       "(4137, 32385)"
      ]
     },
     "execution_count": 73,
     "metadata": {},
     "output_type": "execute_result"
    }
   ],
   "source": [
    "X_trainBW.shape"
   ]
  },
  {
   "cell_type": "code",
   "execution_count": 74,
   "metadata": {},
   "outputs": [],
   "source": [
    "#note: maybe us keras.preprocessing.image.ImageDataGenerator to make a validate / test set..?"
   ]
  },
  {
   "cell_type": "code",
   "execution_count": 96,
   "metadata": {},
   "outputs": [],
   "source": [
    "from keras.models import Sequential\n",
    "from keras.layers import Dense, Conv2D, Flatten, MaxPooling2D\n",
    "from keras.optimizers import SGD"
   ]
  },
  {
   "cell_type": "markdown",
   "metadata": {},
   "source": [
    "The basic principle followed in building a convolutional neural network is to:<br> ‘keep the feature space wide and shallow in the initial stages of the network, and the make it narrower and deeper towards the end.’"
   ]
  },
  {
   "cell_type": "code",
   "execution_count": 76,
   "metadata": {},
   "outputs": [
    {
     "name": "stdout",
     "output_type": "stream",
     "text": [
      "Model: \"sequential_3\"\n",
      "_________________________________________________________________\n",
      "Layer (type)                 Output Shape              Param #   \n",
      "=================================================================\n",
      "dense_3 (Dense)              (None, 2)                 64772     \n",
      "=================================================================\n",
      "Total params: 64,772\n",
      "Trainable params: 64,772\n",
      "Non-trainable params: 0\n",
      "_________________________________________________________________\n"
     ]
    }
   ],
   "source": [
    "model = Sequential()\n",
    "model.add(Dense(2,input_shape=(32385,),activation='softmax'))\n",
    "model.compile(optimizer=SGD(lr=0.1),\n",
    " loss='categorical_crossentropy',\n",
    " metrics=['accuracy'])\n",
    "\n",
    "model.summary()"
   ]
  },
  {
   "cell_type": "code",
   "execution_count": 89,
   "metadata": {},
   "outputs": [
    {
     "name": "stdout",
     "output_type": "stream",
     "text": [
      "Train on 4137 samples, validate on 1773 samples\n",
      "Epoch 1/10\n",
      "4137/4137 [==============================] - 1s 151us/step - loss: 12.0551 - accuracy: 0.8941 - val_loss: 5.0011 - val_accuracy: 0.9284\n",
      "Epoch 2/10\n",
      "4137/4137 [==============================] - 1s 127us/step - loss: 13.2753 - accuracy: 0.8784 - val_loss: 109.8188 - val_accuracy: 0.7310\n",
      "Epoch 3/10\n",
      "4137/4137 [==============================] - 1s 137us/step - loss: 14.4533 - accuracy: 0.8871 - val_loss: 24.3985 - val_accuracy: 0.7704\n",
      "Epoch 4/10\n",
      "4137/4137 [==============================] - 0s 117us/step - loss: 13.0821 - accuracy: 0.8837 - val_loss: 8.6425 - val_accuracy: 0.8951\n",
      "Epoch 5/10\n",
      "4137/4137 [==============================] - 0s 117us/step - loss: 10.9931 - accuracy: 0.8939 - val_loss: 6.3302 - val_accuracy: 0.9188\n",
      "Epoch 6/10\n",
      "4137/4137 [==============================] - 0s 117us/step - loss: 10.6616 - accuracy: 0.9033 - val_loss: 14.6815 - val_accuracy: 0.8731\n",
      "Epoch 7/10\n",
      "4137/4137 [==============================] - 1s 130us/step - loss: 9.6959 - accuracy: 0.9016 - val_loss: 9.2156 - val_accuracy: 0.9019\n",
      "Epoch 8/10\n",
      "4137/4137 [==============================] - 0s 117us/step - loss: 7.6093 - accuracy: 0.9135 - val_loss: 8.2394 - val_accuracy: 0.8928\n",
      "Epoch 9/10\n",
      "4137/4137 [==============================] - 0s 118us/step - loss: 8.1021 - accuracy: 0.9106 - val_loss: 5.1394 - val_accuracy: 0.9255\n",
      "Epoch 10/10\n",
      "4137/4137 [==============================] - 1s 124us/step - loss: 7.7800 - accuracy: 0.9048 - val_loss: 4.5206 - val_accuracy: 0.9419\n"
     ]
    }
   ],
   "source": [
    "#changing to categorical so that we can look at the acc\n",
    "y_testBW_binary = to_categorical(y_testBW)\n",
    "y_trainBW_binary = to_categorical(y_trainBW)\n",
    "\n",
    "model_history = model.fit(x=X_trainBW,y=y_trainBW_binary,\n",
    "                          validation_data=(X_testBW,y_testBW_binary),\n",
    "                          epochs = 10)"
   ]
  },
  {
   "cell_type": "markdown",
   "metadata": {},
   "source": [
    "**notes on how to interpret output:**\n",
    "1. val_loss starts increasing, val_acc starts decreasing(means model is cramming values not learning)\n",
    "\n",
    "2. val_loss starts increasing, val_acc also increases.(could be case of overfitting or diverse probability values in cases softmax is used in output layer)\n",
    "\n",
    "3. val_loss starts decreasing, val_acc starts increasing(Correct, means model build is learning and working fine)\n",
    "\n",
    "https://stackoverflow.com/questions/51704808/what-is-the-difference-between-loss-accuracy-validation-loss-validation-accur\n",
    "https://stackoverflow.com/questions/34518656/how-to-interpret-loss-and-accuracy-for-a-machine-learning-model"
   ]
  },
  {
   "cell_type": "markdown",
   "metadata": {},
   "source": [
    "Train on 4137 samples, validate on 1773 samples<br>\n",
    "**Epoch 1/5**<br>\n",
    "loss: 12.0551 - accuracy: 0.8941 - val_loss: 5.0011 - val_accuracy: 0.9284<br>\n",
    "**Epoch 2/5**<br>\n",
    "loss: 13.2753 - accuracy: 0.8784 - val_loss: 109.8188 - val_accuracy: 0.7310 ... **cramming!** <br>\n",
    "**Epoch 3/5**<br>\n",
    "loss: 14.4533 - accuracy: 0.8871 - val_loss: 24.3985 - val_accuracy: 0.7704 ... **cramming?**<br>\n",
    "**Epoch 4/5**<br>\n",
    "loss: 13.0821 - accuracy: 0.8837 - val_loss: 8.6425 - val_accuracy: 0.8951 ... **cramming**<br>\n",
    "**Epoch 5/5**<br>\n",
    "loss: 10.9931 - accuracy: 0.8939 - val_loss: 6.3302 - val_accuracy: 0.9188 ... **cramming**<br>\n",
    "...."
   ]
  },
  {
   "cell_type": "code",
   "execution_count": 149,
   "metadata": {},
   "outputs": [
    {
     "data": {
      "image/png": "[encoded data removed]",
      "text/plain": [
       "<Figure size 576x288 with 1 Axes>"
      ]
     },
     "metadata": {
      "needs_background": "light"
     },
     "output_type": "display_data"
    },
    {
     "data": {
      "image/png": "[encoded data removed]",
      "text/plain": [
       "<Figure size 576x288 with 1 Axes>"
      ]
     },
     "metadata": {
      "needs_background": "light"
     },
     "output_type": "display_data"
    }
   ],
   "source": [
    "acc = model_history.history['accuracy']\n",
    "val_acc = model_history.history['val_accuracy']\n",
    "loss = model_history.history['loss']\n",
    "val_loss = model_history.history['val_loss']\n",
    "epochs_range = range(1, 10 + 1)\n",
    "\n",
    "plt.figure(figsize=(8,4))\n",
    "plt.plot(epochs_range, acc, label='Train Set')\n",
    "plt.plot(epochs_range, val_acc, label='Test Set')\n",
    "plt.legend(loc=\"best\")\n",
    "plt.xlabel('Epochs')\n",
    "plt.ylabel('accuracy')\n",
    "plt.title('Model Accuracy')\n",
    "plt.show()\n",
    "\n",
    "plt.figure(figsize=(8,4))\n",
    "plt.plot(epochs_range, loss, label='Train Set')\n",
    "plt.plot(epochs_range, val_loss, label='Test Set')\n",
    "plt.legend(loc=\"best\")\n",
    "plt.xlabel('Epochs')\n",
    "plt.ylabel('Loss')\n",
    "plt.title('Model Loss')\n",
    "plt.show()"
   ]
  },
  {
   "cell_type": "markdown",
   "metadata": {},
   "source": [
    "## Lets try a CNN "
   ]
  },
  {
   "cell_type": "markdown",
   "metadata": {},
   "source": [
    "**general rules to follow** \n",
    "1. use smaller filters in the beginning to collect as much local info as possible. Then gradually increase the filter width to represent more global info. The increase in filters increase depth. (general 3x3,5x5,7x7)\n",
    "2. number of channels should be low to help with detecting low-level features. <br>\n",
    "**by convention the number of channels either increase or stay the same as we move up**\n",
    "3. use padding if you think the borders are important. My data is x-rays so not really, just dead space\n",
    "4. Add lays till overfit (???) and then once we achieved a considerable accuracy in our validation set we can use regularization components like l1/l2 regularization, dropout, batch norm, data augmentation etc. to reduce over-fitting\n",
    "5. When lost, try to refer back to networks that have good architectures: AlexNet, LeNet, VGG-16. Number of channels 32–64–128 or 32–32-64–64 or trend in filter sizes, Max-pooling parameters etc.\n",
    "\n",
    "**also note:** <br>\n",
    " Convolution or Pooling layer we reduce the dimensions of the input image of dimensions N to (N-f+1)/s where where ‘f’ is the filter size and ‘s’ the stride length this will be very helpful to us during the process.\n",
    "\n",
    "https://towardsdatascience.com/a-guide-to-an-efficient-way-to-build-neural-network-architectures-part-ii-hyper-parameter-42efca01e5d7"
   ]
  },
  {
   "cell_type": "code",
   "execution_count": 135,
   "metadata": {},
   "outputs": [],
   "source": [
    "from hyperopt import Trials, STATUS_OK, tpe\n",
    "from hyperas import optim\n",
    "from hyperas.distributions import choice, uniform"
   ]
  },
  {
   "cell_type": "code",
   "execution_count": 6,
   "metadata": {},
   "outputs": [
    {
     "name": "stdout",
     "output_type": "stream",
     "text": [
      "Model: \"sequential_1\"\n",
      "_________________________________________________________________\n",
      "Layer (type)                 Output Shape              Param #   \n",
      "=================================================================\n",
      "conv2d_1 (Conv2D)            (None, 125, 253, 32)      896       \n",
      "_________________________________________________________________\n",
      "conv2d_2 (Conv2D)            (None, 123, 251, 64)      18496     \n",
      "_________________________________________________________________\n",
      "flatten_1 (Flatten)          (None, 1975872)           0         \n",
      "_________________________________________________________________\n",
      "dense_1 (Dense)              (None, 2)                 3951746   \n",
      "=================================================================\n",
      "Total params: 3,971,138\n",
      "Trainable params: 3,971,138\n",
      "Non-trainable params: 0\n",
      "_________________________________________________________________\n"
     ]
    }
   ],
   "source": [
    "#so now were building a model.. simple model from datacamp. \n",
    "from keras.models import Sequential\n",
    "from keras.layers import Dense, Conv2D, Flatten\n",
    "#create model\n",
    "model2 = Sequential()\n",
    "#add model layers\n",
    "model2.add(Conv2D(32, kernel_size=3, activation='relu', input_shape=(min(imgy),min(imgx),3)))\n",
    "model2.add(Conv2D(64, kernel_size=3, activation='relu'))\n",
    "model2.add(Flatten())\n",
    "model2.add(Dense(2, activation='softmax'))\n",
    "#compile model using accuracy to measure model performance\n",
    "model2.compile(optimizer='adam', loss='categorical_crossentropy', metrics=['accuracy'])\n",
    "\n",
    "model2.summary()"
   ]
  },
  {
   "cell_type": "code",
   "execution_count": 11,
   "metadata": {},
   "outputs": [
    {
     "name": "stdout",
     "output_type": "stream",
     "text": [
      "Train on 4137 samples, validate on 1773 samples\n",
      "Epoch 1/5\n",
      "4137/4137 [==============================] - 151s 37ms/step - loss: 248.9919 - accuracy: 0.8011 - val_loss: 0.4035 - val_accuracy: 0.8720\n",
      "Epoch 2/5\n",
      "4137/4137 [==============================] - 155s 38ms/step - loss: 0.2298 - accuracy: 0.9398 - val_loss: 0.3786 - val_accuracy: 0.8782\n",
      "Epoch 3/5\n",
      "4137/4137 [==============================] - 162s 39ms/step - loss: 0.0945 - accuracy: 0.9734 - val_loss: 0.4164 - val_accuracy: 0.8855\n",
      "Epoch 4/5\n",
      "4137/4137 [==============================] - 150s 36ms/step - loss: 0.0472 - accuracy: 0.9894 - val_loss: 0.4639 - val_accuracy: 0.8878\n",
      "Epoch 5/5\n",
      "4137/4137 [==============================] - 158s 38ms/step - loss: 0.0230 - accuracy: 0.9954 - val_loss: 0.5316 - val_accuracy: 0.8895\n"
     ]
    },
    {
     "data": {
      "text/plain": [
       "<keras.callbacks.callbacks.History at 0x7fefebf00f98>"
      ]
     },
     "execution_count": 11,
     "metadata": {},
     "output_type": "execute_result"
    }
   ],
   "source": [
    "y = data['Label']\n",
    "X = np.array(X)\n",
    "X_train,X_test,y_train,y_test = train_test_split(X,y,\n",
    "                                                 test_size=0.3,\n",
    "                                                 random_state=12345)\n",
    "y_test_binary = to_categorical(y_test)\n",
    "y_train_binary = to_categorical(y_train)\n",
    "\n",
    "model2.fit(x=X_train,y=y_train_binary,validation_data=(X_test,y_test_binary),epochs=5)"
   ]
  },
  {
   "cell_type": "markdown",
   "metadata": {},
   "source": [
    "Train on 4137 samples, validate on 1773 samples\n",
    "**Epoch 1/5**\n",
    "loss: 248.9919 - accuracy: 0.8011 - val_loss: 0.4035 - val_accuracy: 0.8720 ... **learning**<br>\n",
    "**Epoch 2/5**\n",
    "loss: 0.2298 - accuracy: 0.9398 - val_loss: 0.3786 - val_accuracy: 0.8782 ... **learning**<br>\n",
    "**Epoch 3/5**\n",
    "loss: 0.0945 - accuracy: 0.9734 - val_loss: 0.4164 - val_accuracy: 0.8855 ... **overfitting?**<br>\n",
    "**Epoch 4/5**\n",
    "loss: 0.0472 - accuracy: 0.9894 - val_loss: 0.4639 - val_accuracy: 0.8878 ... **overfitting??**<br>\n",
    "**Epoch 5/5**\n",
    "loss: 0.0230 - accuracy: 0.9954 - val_loss: 0.5316 - val_accuracy: 0.8895 ... **overfitting???**<br>"
   ]
  },
  {
   "cell_type": "markdown",
   "metadata": {},
   "source": [
    "### Lets try to optimize the hyper-parameters & stop overfitting"
   ]
  },
  {
   "cell_type": "code",
   "execution_count": 98,
   "metadata": {},
   "outputs": [
    {
     "name": "stdout",
     "output_type": "stream",
     "text": [
      "Model: \"sequential_6\"\n",
      "_________________________________________________________________\n",
      "Layer (type)                 Output Shape              Param #   \n",
      "=================================================================\n",
      "conv2d_4 (Conv2D)            (None, 30, 62, 96)        34944     \n",
      "_________________________________________________________________\n",
      "max_pooling2d_1 (MaxPooling2 (None, 15, 31, 96)        0         \n",
      "_________________________________________________________________\n",
      "conv2d_5 (Conv2D)            (None, 11, 27, 64)        153664    \n",
      "_________________________________________________________________\n",
      "max_pooling2d_2 (MaxPooling2 (None, 5, 13, 64)         0         \n",
      "_________________________________________________________________\n",
      "flatten_2 (Flatten)          (None, 4160)              0         \n",
      "_________________________________________________________________\n",
      "dense_4 (Dense)              (None, 2)                 8322      \n",
      "=================================================================\n",
      "Total params: 196,930\n",
      "Trainable params: 196,930\n",
      "Non-trainable params: 0\n",
      "_________________________________________________________________\n"
     ]
    }
   ],
   "source": [
    "model_test = Sequential()\n",
    "#add model layers\n",
    "model_test.add(Conv2D(96, kernel_size=11, strides = 4,activation='relu', input_shape=(min(imgy),min(imgx),3)))\n",
    "model_test.add(MaxPooling2D(2))\n",
    "model_test.add(Conv2D(64, kernel_size=5, activation='relu'))\n",
    "model_test.add(MaxPooling2D(2))\n",
    "model_test.add(Flatten())\n",
    "model_test.add(Dense(2, activation='softmax'))\n",
    "#compile model using accuracy to measure model performance\n",
    "model_test.compile(optimizer='adam', loss='categorical_crossentropy', metrics=['accuracy'])\n",
    "\n",
    "model_test.summary()"
   ]
  },
  {
   "cell_type": "code",
   "execution_count": 99,
   "metadata": {},
   "outputs": [
    {
     "name": "stdout",
     "output_type": "stream",
     "text": [
      "Train on 4137 samples, validate on 1773 samples\n",
      "Epoch 1/5\n",
      "4137/4137 [==============================] - 23s 6ms/step - loss: 3.9182 - accuracy: 0.7960 - val_loss: 0.2142 - val_accuracy: 0.9143\n",
      "Epoch 2/5\n",
      "4137/4137 [==============================] - 21s 5ms/step - loss: 0.2272 - accuracy: 0.9079 - val_loss: 0.2093 - val_accuracy: 0.9227\n",
      "Epoch 3/5\n",
      "4137/4137 [==============================] - 21s 5ms/step - loss: 0.2474 - accuracy: 0.9142 - val_loss: 0.1862 - val_accuracy: 0.9284\n",
      "Epoch 4/5\n",
      "4137/4137 [==============================] - 22s 5ms/step - loss: 0.1828 - accuracy: 0.9328 - val_loss: 0.1803 - val_accuracy: 0.9312\n",
      "Epoch 5/5\n",
      "4137/4137 [==============================] - 22s 5ms/step - loss: 0.1709 - accuracy: 0.9352 - val_loss: 0.1781 - val_accuracy: 0.9210\n"
     ]
    },
    {
     "data": {
      "text/plain": [
       "<keras.callbacks.callbacks.History at 0x7fefe420ee10>"
      ]
     },
     "execution_count": 99,
     "metadata": {},
     "output_type": "execute_result"
    }
   ],
   "source": [
    "model_test.fit(x=X_train,y=y_train_binary,validation_data=(X_test,y_test_binary),epochs=5)"
   ]
  },
  {
   "cell_type": "markdown",
   "metadata": {},
   "source": [
    "## maybe i can create a validation set, and then I can save the test set for a real accuray score"
   ]
  },
  {
   "cell_type": "code",
   "execution_count": 106,
   "metadata": {},
   "outputs": [
    {
     "data": {
      "text/plain": [
       "(4137, 127, 255, 3)"
      ]
     },
     "execution_count": 106,
     "metadata": {},
     "output_type": "execute_result"
    }
   ],
   "source": [
    "X_train.shape\n",
    "# min(imgy)"
   ]
  },
  {
   "cell_type": "code",
   "execution_count": 146,
   "metadata": {},
   "outputs": [],
   "source": [
    "from keras.preprocessing.image import ImageDataGenerator\n",
    "dataset = '/Volumes/noName/coronahack-chest-xraydataset/Coronahack-Chest-XRay-Dataset/Coronahack-Chest-XRay-Dataset'\n",
    "train_dir = r'{}/train'.format(dataset)\n",
    "test_dir = r'{}/test'.format(dataset)\n",
    "\n",
    "## Model Params\n",
    "## Generate batches of tensor image data with real-time data augmentation. The data will be looped over (in batches).\n",
    "image_size = 150\n",
    "batch_size = 50\n",
    "nb_classes = 2\n",
    "\n",
    "train_datagen = ImageDataGenerator(rescale = 1./255,     # Convert all pixels to 0-1\n",
    "                              width_shift_range = 0.1,   # The magnitude of the horizontal shift of the picture when the data is improved\n",
    "                              height_shift_range = 0.1,  # The magnitude of the vertical shift of the picture when the data is boosted\n",
    "                              shear_range = 0.2,         # Set the shear strength\n",
    "                              horizontal_flip = True,    # Randomly select half of the picture to flip horizontally\n",
    "                              fill_mode ='nearest')      #The points that exceed the boundary will be processed according to the method given by this parameter.Generally, there are some  \n",
    "                                                         # ‘constant’，‘nearest’，‘reflect’或‘wrap。\n",
    "\n",
    "test_datagen = ImageDataGenerator(rescale = 1./255)\n"
   ]
  },
  {
   "cell_type": "code",
   "execution_count": 147,
   "metadata": {},
   "outputs": [
    {
     "name": "stdout",
     "output_type": "stream",
     "text": [
      "traning set: \n",
      "Found 5933 images belonging to 2 classes.\n",
      "testing set: \n",
      "Found 5933 images belonging to 2 classes.\n"
     ]
    }
   ],
   "source": [
    "print(\"traning set: \")\n",
    "batch_size = 50\n",
    "\n",
    "# Generate batches of tensor image data through real-time data augmentation. Data will be continuously cycled (by batch)\n",
    "\n",
    "train_datagen = train_datagen.flow_from_directory(dataset,              # The path to the target directory. Each class should contain a subdirectory. \n",
    "                                               batch_size=batch_size,     # The size of the batch of data (default 32)\n",
    "                                               class_mode='categorical')  # class_mode is one of categorical \",\" binary \",\" sparse \"or None, which determines the array form of the returned tags. categorical returns 2D one-hot encoded tags.\n",
    "print(\"testing set: \")\n",
    "\n",
    "test_datagen = test_datagen.flow_from_directory(dataset,\n",
    "                                                (min(imgy), min(imgx)),\n",
    "                                                batch_size=batch_size,\n",
    "                                                class_mode='categorical')\n",
    "\n",
    "\n",
    "#Define step count\n",
    "\n",
    "train_steps = train_datagen.samples//batch_size # \"//\" means integer division\n",
    "test_steps = test_datagen.samples//batch_size"
   ]
  },
  {
   "cell_type": "code",
   "execution_count": 136,
   "metadata": {},
   "outputs": [
    {
     "data": {
      "text/plain": [
       "'/Volumes/noName/coronahack-chest-xraydataset/Coronahack-Chest-XRay-Dataset/Coronahack-Chest-XRay-Dataset/train'"
      ]
     },
     "execution_count": 136,
     "metadata": {},
     "output_type": "execute_result"
    }
   ],
   "source": [
    "train_dir"
   ]
  },
  {
   "cell_type": "code",
   "execution_count": null,
   "metadata": {},
   "outputs": [],
   "source": []
  }
 ],
 "metadata": {
  "kernelspec": {
   "display_name": "Python 3",
   "language": "python",
   "name": "python3"
  },
  "language_info": {
   "codemirror_mode": {
    "name": "ipython",
    "version": 3
   },
   "file_extension": ".py",
   "mimetype": "text/x-python",
   "name": "python",
   "nbconvert_exporter": "python",
   "pygments_lexer": "ipython3",
   "version": "3.6.10"
  }
 },
 "nbformat": 4,
 "nbformat_minor": 4
}
