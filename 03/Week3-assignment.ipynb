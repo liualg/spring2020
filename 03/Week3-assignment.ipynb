{
 "cells": [
  {
   "cell_type": "markdown",
   "metadata": {},
   "source": [
    "Before you turn this problem in, make sure everything runs as expected. First, **restart the kernel** (in the menubar, select Kernel$\\rightarrow$Restart) and then **run all cells** (in the menubar, select Cell$\\rightarrow$Run All).\n",
    "\n",
    "Make sure you fill in any place that says `YOUR CODE HERE` or \"YOUR ANSWER HERE\"."
   ]
  },
  {
   "cell_type": "markdown",
   "metadata": {
    "deletable": false,
    "editable": false,
    "nbgrader": {
     "checksum": "4bf8c046ffff9919ca73b348f77ddeac",
     "grade": false,
     "grade_id": "cell-f83bb58b03292578",
     "locked": true,
     "schema_version": 1,
     "solution": false
    }
   },
   "source": [
    "# Week3 Assignment - Data retrieval and dataset preprocessing.\n",
    "\n",
    "For this assignment, you will need the iris flowers dataset available on the course website, under Week3 files. This is a dataset of 150 observations of flowers, with petal lengths and widths, and sepal lengths and widths.\n",
    "\n",
    "The basic goal of this assignment is to preprocess the iris dataset in preparation for a machine-learning algorithm.\n",
    "\n",
    "In the first component, you will load the dataset into a Pandas dataframe.\n",
    "\n",
    "In the second component, you will impute missing values in one of the columns. In this case, you will assign the average value in the column to the missing data points.\n",
    "\n",
    "In the third component, you will create two new columns that will approximate the sepal and petal sizes: One will equal the petal length multiplied by the petal width, and the other will equal the sepal length multiplied by the sepal width.\n",
    "\n",
    "In the fourth component, you will normalize the sepal and petal sizes.\n",
    "\n",
    "In the fifth component, you will add a column with a boolean value representing whether a flower belongs to the setosa species.\n",
    "\n",
    "All the exercises are designed so that the solutions will need only one or a few lines of code.\n",
    "\n",
    "Do not hesitate to contact instuctors and TA via #week3 channel on Slack if you get stuck. Join the channel first by clicking on Channels."
   ]
  },
  {
   "cell_type": "markdown",
   "metadata": {
    "deletable": false,
    "editable": false,
    "nbgrader": {
     "checksum": "716899ed39003eb3217e5b94d72ca6ce",
     "grade": false,
     "grade_id": "cell-f6b1a85538f737d8",
     "locked": true,
     "schema_version": 1,
     "solution": false
    }
   },
   "source": [
    "## Part A. Read in the iris dataset. \n",
    "\n",
    "In this component you will read the iris dataset into a Pandas data frame. Make sure you download the iris.csv file from the course website. Do not download or load a different instance of the iris dataset: use the one from the course website as we have modified it for this exercise, and when we test your code we will test it against our version of the dataset. Also, do not manually modify the iris dataset.\n",
    "\n",
    "Pay attention which directory you save the file to so that you can load it by its path.\n",
    "If you prefer to load the dataset by its URL, you can do that: https://biof509.github.io/spring2019/_downloads/Iris.csv\n",
    "\n",
    "\n",
    "Once downloaded, use Pandas to read the file into a data frame.\n",
    "\n",
    "Save the data frame to a variable named iris_data."
   ]
  },
  {
   "cell_type": "code",
   "execution_count": 71,
   "metadata": {
    "deletable": false,
    "nbgrader": {
     "checksum": "fd9ac62963d861ba61046958da458541",
     "grade": false,
     "grade_id": "cell-c1e7f79ad332b8f9",
     "locked": false,
     "schema_version": 1,
     "solution": true
    }
   },
   "outputs": [],
   "source": [
    "import pandas as pd\n",
    "import numpy as np\n",
    "\n",
    "# Load the iris dataset into a pandas dataframe\n",
    "# Make sure to save it as \"iris_data\"\n",
    "iris_data = pd.read_csv(\"Iris.csv\")\n",
    "# YOUR CODE HERE\n",
    "pass\n",
    "\n",
    "# You can make sure you loaded it correctly by looking at its first few rows, using the .head() function\n",
    "# print(iris_data.head())"
   ]
  },
  {
   "cell_type": "code",
   "execution_count": 72,
   "metadata": {
    "deletable": false,
    "editable": false,
    "nbgrader": {
     "checksum": "ab0177d0e284cd4e7c53bf2ffdb3f204",
     "grade": true,
     "grade_id": "cell-fd50146eeead0c65",
     "locked": true,
     "points": 1,
     "schema_version": 1,
     "solution": false
    }
   },
   "outputs": [],
   "source": [
    "assert isinstance(iris_data, pd.core.frame.DataFrame)\n",
    "assert iris_data.shape == (150, 6)\n",
    "assert np.isclose(iris_data[\"SepalLengthCm\"].mean(), 5.8153)\n",
    "assert iris_data.isnull().sum().sum() == 7\n",
    "assert iris_data.isnull().values.any()"
   ]
  },
  {
   "cell_type": "markdown",
   "metadata": {},
   "source": [
    "## Part B. Impute missing data.\n",
    "\n",
    "Unfortunately it appears that there are some missing data points in the PetalLengthCm column.\n",
    "\n",
    "To resolve this, write a function that can find the mean of the PetalLengthCm column and replace the missing data points in the PetalLengthCm column with this mean.\n",
    "\n",
    "The function takes as input a Pandas data frame and a column name. The function will return a new Pandas data frame, with the missing data points replaced with the column mean.\n",
    "\n",
    "Run the function on the iris_data data frame and save the new data frame in the same variable (iris_data)."
   ]
  },
  {
   "cell_type": "code",
   "execution_count": 73,
   "metadata": {
    "deletable": false,
    "nbgrader": {
     "checksum": "31792c4dc313f5955893effe55d8e9c4",
     "grade": false,
     "grade_id": "cell-bc8ce57a60e5fd7a",
     "locked": false,
     "schema_version": 1,
     "solution": true
    }
   },
   "outputs": [],
   "source": [
    "def impute_with_mean(df, column_name):\n",
    "    \"\"\"\n",
    "    Accepts a Pandas data frame and a column name as input.\n",
    "    \n",
    "    Returns a new Pandas data frame with missing data points in the column\n",
    "    replaced with the mean value for that column.\n",
    "    \"\"\"\n",
    "    df[column_name] = df[column_name].fillna(df[column_name].mean())\n",
    "    return df\n",
    "    # YOUR CODE HERE\n",
    "    pass\n",
    "\n"
   ]
  },
  {
   "cell_type": "code",
   "execution_count": 74,
   "metadata": {},
   "outputs": [],
   "source": [
    "# Let's impute in our data frame\n",
    "iris_data = impute_with_mean(iris_data, \"PetalLengthCm\")"
   ]
  },
  {
   "cell_type": "code",
   "execution_count": 75,
   "metadata": {
    "deletable": false,
    "editable": false,
    "nbgrader": {
     "checksum": "23246c3e4ddef407c89012560c17d650",
     "grade": true,
     "grade_id": "cell-165c467d2a6e7dde",
     "locked": true,
     "points": 1,
     "schema_version": 1,
     "solution": false
    }
   },
   "outputs": [],
   "source": [
    "assert not iris_data.isnull().values.any()\n",
    "assert iris_data[\"PetalLengthCm\"].median() == 4.25\n",
    "assert iris_data.equals(impute_with_mean(iris_data, \"SepalLengthCm\"))"
   ]
  },
  {
   "cell_type": "markdown",
   "metadata": {},
   "source": [
    "## Part C. Approximate full sizes.\n",
    "\n",
    "In this component you will create two new columns that approximate the sepal and petal sizes.\n",
    "\n",
    "The first new column will be named sepal_size and will be equal to: SepalLengthCm \\* SepalWidthCm\n",
    "\n",
    "The second new column will be named petal_size and will be equal to: PetalLengthCm \\* PetalWidthCm\n",
    "\n",
    "Add the appropriate columns below."
   ]
  },
  {
   "cell_type": "code",
   "execution_count": 79,
   "metadata": {
    "deletable": false,
    "nbgrader": {
     "checksum": "baffa79bde7f26891b2f4a1b6cac220f",
     "grade": false,
     "grade_id": "cell-8d46731c6bc218b6",
     "locked": false,
     "schema_version": 1,
     "solution": true
    }
   },
   "outputs": [],
   "source": [
    "iris_data['sepal_size'] = iris_data['SepalLengthCm'] * iris_data['SepalWidthCm']\n",
    "iris_data['petal_size'] = iris_data['PetalLengthCm'] * iris_data['PetalWidthCm']\n",
    "pass"
   ]
  },
  {
   "cell_type": "code",
   "execution_count": 80,
   "metadata": {
    "deletable": false,
    "editable": false,
    "nbgrader": {
     "checksum": "11d42aabe3e17bbc5ea54b4e6a236621",
     "grade": true,
     "grade_id": "cell-c7edebc7b2cd1c7b",
     "locked": true,
     "points": 1,
     "schema_version": 1,
     "solution": false
    }
   },
   "outputs": [],
   "source": [
    "assert iris_data.shape[1] > 6\n",
    "assert \"sepal_size\" in iris_data.columns\n",
    "assert \"petal_size\" in iris_data.columns\n",
    "assert np.isclose(np.round(iris_data[\"petal_size\"].sum()), 868.)\n",
    "assert np.isclose(np.round(iris_data[\"sepal_size\"].sum()), 2656.)"
   ]
  },
  {
   "cell_type": "markdown",
   "metadata": {},
   "source": [
    "## Part D. Normalize sizes.\n",
    "\n",
    "For some machine-learning algorithms, we need to normalize data. This is generally done so that different features are on the same scales.\n",
    "\n",
    "In our case, sepal_size and petal_size are on different scales. Normalize them by subtracting the mean from each and dividing by the standard deviation. You can do this manually if you prefer, or you can use the scale function from sklearn.preprocessing.\n",
    "\n",
    "Note: If you do this manually, make sure to set the standard deviation to 0 degrees of freedom (ddof=0).\n",
    "\n",
    "Since you need to perform this operation twice, you may consider writing a function to handle this, though that is not a requirement.\n",
    "\n",
    "Save the new columns as: sepal_size_normalized, petal_size_normalized"
   ]
  },
  {
   "cell_type": "code",
   "execution_count": 84,
   "metadata": {
    "deletable": false,
    "nbgrader": {
     "checksum": "48ed4776ebc46c206c7f1caf289859be",
     "grade": false,
     "grade_id": "cell-377e7ae405383f99",
     "locked": false,
     "schema_version": 1,
     "solution": true
    }
   },
   "outputs": [],
   "source": [
    "from sklearn.preprocessing import scale \n",
    "\n",
    "iris_data['sepal_size_normalized'] = scale(iris_data['sepal_size'])\n",
    "iris_data['petal_size_normalized'] = scale(iris_data['petal_size'])\n",
    "pass"
   ]
  },
  {
   "cell_type": "code",
   "execution_count": 85,
   "metadata": {
    "deletable": false,
    "editable": false,
    "nbgrader": {
     "checksum": "f9aa3c9862b569f25dd652121635240e",
     "grade": true,
     "grade_id": "cell-fd44161086b39a45",
     "locked": true,
     "points": 1,
     "schema_version": 1,
     "solution": false
    }
   },
   "outputs": [],
   "source": [
    "assert np.isclose(iris_data[\"petal_size_normalized\"].mean(), 0)\n",
    "assert np.isclose(iris_data[\"petal_size_normalized\"].std(ddof=0), 1)\n",
    "assert np.isclose(iris_data[\"sepal_size_normalized\"].mean(), 0)\n",
    "assert np.isclose(iris_data[\"sepal_size_normalized\"].std(ddof=0), 1)"
   ]
  },
  {
   "cell_type": "markdown",
   "metadata": {},
   "source": [
    "## Part E. Add a boolean column.\n",
    "\n",
    "We are specifically interested in whether a given flower is from the setosa species.\n",
    "\n",
    "Add a column \"is_setosa\" to the data frame, that is true if we are dealing with a setosa and false otherwise."
   ]
  },
  {
   "cell_type": "code",
   "execution_count": 87,
   "metadata": {
    "deletable": false,
    "nbgrader": {
     "checksum": "92f8ffe28cb6fb5c8e9ad82ce8c645cd",
     "grade": false,
     "grade_id": "cell-75001ba281dc95cc",
     "locked": false,
     "schema_version": 1,
     "solution": true
    }
   },
   "outputs": [],
   "source": [
    "iris_data['is_setosa'] = iris_data['Species'] == 'Iris-setosa'\n",
    "\n",
    "pass"
   ]
  },
  {
   "cell_type": "code",
   "execution_count": 88,
   "metadata": {
    "deletable": false,
    "editable": false,
    "nbgrader": {
     "checksum": "1a52213d0c9a78ddf30e3b3d2f76ee76",
     "grade": true,
     "grade_id": "cell-b7846271cdcb45c0",
     "locked": true,
     "points": 1,
     "schema_version": 1,
     "solution": false
    }
   },
   "outputs": [],
   "source": [
    "assert sum(iris_data[\"is_setosa\"]) == 50\n",
    "assert iris_data.loc[iris_data[\"Species\"] == \"Iris-setosa\", \"is_setosa\"].all()\n",
    "assert iris_data[\"is_setosa\"].dtype == \"bool\""
   ]
  },
  {
   "cell_type": "code",
   "execution_count": null,
   "metadata": {},
   "outputs": [],
   "source": []
  }
 ],
 "metadata": {
  "kernelspec": {
   "display_name": "Python 3",
   "language": "python",
   "name": "python3"
  },
  "language_info": {
   "codemirror_mode": {
    "name": "ipython",
    "version": 3
   },
   "file_extension": ".py",
   "mimetype": "text/x-python",
   "name": "python",
   "nbconvert_exporter": "python",
   "pygments_lexer": "ipython3",
   "version": "3.6.10"
  }
 },
 "nbformat": 4,
 "nbformat_minor": 2
}
